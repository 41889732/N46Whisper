{
  "nbformat": 4,
  "nbformat_minor": 0,
  "metadata": {
    "colab": {
      "provenance": [],
      "collapsed_sections": []
    },
    "kernelspec": {
      "name": "python3",
      "display_name": "Python 3"
    },
    "language_info": {
      "name": "python"
    }
  },
  "cells": [
    {
      "cell_type": "markdown",
      "source": [
        "# N46Whisper\n",
        "\n",
        "N46Whisper is a Google Colab notebook application for streamedlined video Japanese subtitle file generation to facilitate subsequent translation and timing process. This application serves the purpose of improving the productivity of Nogizaka46 (and Sakamichi groups) subbers.\n",
        "\n",
        "The notebook is based on [Whisper](https://https://github.com/openai/whisper), a general-prupose speech recognition model.\n",
        "\n",
        "The output file will be in .ass format with built-in style of selected sub group so it can be directly imported into [Aegisub](https://github.com/Aegisub/Aegisub) for subsequent editing.\n",
        "\n",
        "Contact:"
      ],
      "metadata": {
        "id": "cEAvBF4zgXX4"
      }
    },
    {
      "cell_type": "markdown",
      "source": [],
      "metadata": {
        "id": "laXaXrgPvCOn"
      }
    },
    {
      "cell_type": "code",
      "execution_count": 8,
      "metadata": {
        "colab": {
          "base_uri": "https://localhost:8080/"
        },
        "id": "nw72_bK3AS1d",
        "outputId": "ad13f325-f4c7-42dd-c311-03bdaf1e7811"
      },
      "outputs": [
        {
          "output_type": "stream",
          "name": "stdout",
          "text": [
            "Drive already mounted at /drive; to attempt to forcibly remount, call drive.mount(\"/drive\", force_remount=True).\n",
            "Google Drive mounted\n",
            "挂载完毕\n"
          ]
        }
      ],
      "source": [
        "#@markdown **挂载你的谷歌网盘/Mount Google Drive** \n",
        "\n",
        "from google.colab import drive\n",
        "drive.mount('/drive')\n",
        "print('Google Drive mounted')\n",
        "print('挂载完毕')"
      ]
    },
    {
      "cell_type": "code",
      "source": [
        "#@markdown **配置Whisper/Setup Whisper**\n",
        "\n",
        "! pip install git+https://github.com/openai/whisper.git\n",
        "print('Whisper installed')\n",
        "print('配置完毕')"
      ],
      "metadata": {
        "id": "Fjm3tYISAk9P"
      },
      "execution_count": null,
      "outputs": []
    },
    {
      "cell_type": "code",
      "source": [
        "#@markdown **上传文件/Upload files**\n",
        "\n",
        "from google.colab import files\n",
        "\n",
        "uploaded = files.upload()\n",
        "file_name = list(uploaded.keys())[0]"
      ],
      "metadata": {
        "colab": {
          "base_uri": "https://localhost:8080/",
          "height": 229
        },
        "id": "VF_eOkuYbrBj",
        "outputId": "ecf2822e-07e5-4a52-aa9c-b60e65c28cd8"
      },
      "execution_count": 13,
      "outputs": [
        {
          "output_type": "display_data",
          "data": {
            "text/plain": [
              "<IPython.core.display.HTML object>"
            ],
            "text/html": [
              "\n",
              "     <input type=\"file\" id=\"files-88796c8e-806d-41a1-af0d-c26c0ec6e39b\" name=\"files[]\" multiple disabled\n",
              "        style=\"border:none\" />\n",
              "     <output id=\"result-88796c8e-806d-41a1-af0d-c26c0ec6e39b\">\n",
              "      Upload widget is only available when the cell has been executed in the\n",
              "      current browser session. Please rerun this cell to enable.\n",
              "      </output>\n",
              "      <script>// Copyright 2017 Google LLC\n",
              "//\n",
              "// Licensed under the Apache License, Version 2.0 (the \"License\");\n",
              "// you may not use this file except in compliance with the License.\n",
              "// You may obtain a copy of the License at\n",
              "//\n",
              "//      http://www.apache.org/licenses/LICENSE-2.0\n",
              "//\n",
              "// Unless required by applicable law or agreed to in writing, software\n",
              "// distributed under the License is distributed on an \"AS IS\" BASIS,\n",
              "// WITHOUT WARRANTIES OR CONDITIONS OF ANY KIND, either express or implied.\n",
              "// See the License for the specific language governing permissions and\n",
              "// limitations under the License.\n",
              "\n",
              "/**\n",
              " * @fileoverview Helpers for google.colab Python module.\n",
              " */\n",
              "(function(scope) {\n",
              "function span(text, styleAttributes = {}) {\n",
              "  const element = document.createElement('span');\n",
              "  element.textContent = text;\n",
              "  for (const key of Object.keys(styleAttributes)) {\n",
              "    element.style[key] = styleAttributes[key];\n",
              "  }\n",
              "  return element;\n",
              "}\n",
              "\n",
              "// Max number of bytes which will be uploaded at a time.\n",
              "const MAX_PAYLOAD_SIZE = 100 * 1024;\n",
              "\n",
              "function _uploadFiles(inputId, outputId) {\n",
              "  const steps = uploadFilesStep(inputId, outputId);\n",
              "  const outputElement = document.getElementById(outputId);\n",
              "  // Cache steps on the outputElement to make it available for the next call\n",
              "  // to uploadFilesContinue from Python.\n",
              "  outputElement.steps = steps;\n",
              "\n",
              "  return _uploadFilesContinue(outputId);\n",
              "}\n",
              "\n",
              "// This is roughly an async generator (not supported in the browser yet),\n",
              "// where there are multiple asynchronous steps and the Python side is going\n",
              "// to poll for completion of each step.\n",
              "// This uses a Promise to block the python side on completion of each step,\n",
              "// then passes the result of the previous step as the input to the next step.\n",
              "function _uploadFilesContinue(outputId) {\n",
              "  const outputElement = document.getElementById(outputId);\n",
              "  const steps = outputElement.steps;\n",
              "\n",
              "  const next = steps.next(outputElement.lastPromiseValue);\n",
              "  return Promise.resolve(next.value.promise).then((value) => {\n",
              "    // Cache the last promise value to make it available to the next\n",
              "    // step of the generator.\n",
              "    outputElement.lastPromiseValue = value;\n",
              "    return next.value.response;\n",
              "  });\n",
              "}\n",
              "\n",
              "/**\n",
              " * Generator function which is called between each async step of the upload\n",
              " * process.\n",
              " * @param {string} inputId Element ID of the input file picker element.\n",
              " * @param {string} outputId Element ID of the output display.\n",
              " * @return {!Iterable<!Object>} Iterable of next steps.\n",
              " */\n",
              "function* uploadFilesStep(inputId, outputId) {\n",
              "  const inputElement = document.getElementById(inputId);\n",
              "  inputElement.disabled = false;\n",
              "\n",
              "  const outputElement = document.getElementById(outputId);\n",
              "  outputElement.innerHTML = '';\n",
              "\n",
              "  const pickedPromise = new Promise((resolve) => {\n",
              "    inputElement.addEventListener('change', (e) => {\n",
              "      resolve(e.target.files);\n",
              "    });\n",
              "  });\n",
              "\n",
              "  const cancel = document.createElement('button');\n",
              "  inputElement.parentElement.appendChild(cancel);\n",
              "  cancel.textContent = 'Cancel upload';\n",
              "  const cancelPromise = new Promise((resolve) => {\n",
              "    cancel.onclick = () => {\n",
              "      resolve(null);\n",
              "    };\n",
              "  });\n",
              "\n",
              "  // Wait for the user to pick the files.\n",
              "  const files = yield {\n",
              "    promise: Promise.race([pickedPromise, cancelPromise]),\n",
              "    response: {\n",
              "      action: 'starting',\n",
              "    }\n",
              "  };\n",
              "\n",
              "  cancel.remove();\n",
              "\n",
              "  // Disable the input element since further picks are not allowed.\n",
              "  inputElement.disabled = true;\n",
              "\n",
              "  if (!files) {\n",
              "    return {\n",
              "      response: {\n",
              "        action: 'complete',\n",
              "      }\n",
              "    };\n",
              "  }\n",
              "\n",
              "  for (const file of files) {\n",
              "    const li = document.createElement('li');\n",
              "    li.append(span(file.name, {fontWeight: 'bold'}));\n",
              "    li.append(span(\n",
              "        `(${file.type || 'n/a'}) - ${file.size} bytes, ` +\n",
              "        `last modified: ${\n",
              "            file.lastModifiedDate ? file.lastModifiedDate.toLocaleDateString() :\n",
              "                                    'n/a'} - `));\n",
              "    const percent = span('0% done');\n",
              "    li.appendChild(percent);\n",
              "\n",
              "    outputElement.appendChild(li);\n",
              "\n",
              "    const fileDataPromise = new Promise((resolve) => {\n",
              "      const reader = new FileReader();\n",
              "      reader.onload = (e) => {\n",
              "        resolve(e.target.result);\n",
              "      };\n",
              "      reader.readAsArrayBuffer(file);\n",
              "    });\n",
              "    // Wait for the data to be ready.\n",
              "    let fileData = yield {\n",
              "      promise: fileDataPromise,\n",
              "      response: {\n",
              "        action: 'continue',\n",
              "      }\n",
              "    };\n",
              "\n",
              "    // Use a chunked sending to avoid message size limits. See b/62115660.\n",
              "    let position = 0;\n",
              "    do {\n",
              "      const length = Math.min(fileData.byteLength - position, MAX_PAYLOAD_SIZE);\n",
              "      const chunk = new Uint8Array(fileData, position, length);\n",
              "      position += length;\n",
              "\n",
              "      const base64 = btoa(String.fromCharCode.apply(null, chunk));\n",
              "      yield {\n",
              "        response: {\n",
              "          action: 'append',\n",
              "          file: file.name,\n",
              "          data: base64,\n",
              "        },\n",
              "      };\n",
              "\n",
              "      let percentDone = fileData.byteLength === 0 ?\n",
              "          100 :\n",
              "          Math.round((position / fileData.byteLength) * 100);\n",
              "      percent.textContent = `${percentDone}% done`;\n",
              "\n",
              "    } while (position < fileData.byteLength);\n",
              "  }\n",
              "\n",
              "  // All done.\n",
              "  yield {\n",
              "    response: {\n",
              "      action: 'complete',\n",
              "    }\n",
              "  };\n",
              "}\n",
              "\n",
              "scope.google = scope.google || {};\n",
              "scope.google.colab = scope.google.colab || {};\n",
              "scope.google.colab._files = {\n",
              "  _uploadFiles,\n",
              "  _uploadFilesContinue,\n",
              "};\n",
              "})(self);\n",
              "</script> "
            ]
          },
          "metadata": {}
        },
        {
          "output_type": "stream",
          "name": "stderr",
          "text": [
            "IOPub data rate exceeded.\n",
            "The notebook server will temporarily stop sending output\n",
            "to the client in order to avoid crashing it.\n",
            "To change this limit, set the config variable\n",
            "`--NotebookApp.iopub_data_rate_limit`.\n",
            "\n",
            "Current values:\n",
            "NotebookApp.iopub_data_rate_limit=1000000.0 (bytes/sec)\n",
            "NotebookApp.rate_limit_window=3.0 (secs)\n",
            "\n"
          ]
        }
      ]
    },
    {
      "cell_type": "code",
      "source": [
        "# @markdown **参数设置/Required settings:**\n",
        "\n",
        "\n",
        "# @markdown <font size=\"2\">select uploaded file type and input file name (e.g. audio.mp3).\n",
        "# @markdown <br/>选择文件类型(视频/音频）并输入名称。</font>\n",
        "\n",
        "# encoding:utf-8\n",
        "file_type = \"video\"  # @param [\"audio\",\"video\"]\n",
        "\n",
        "# @markdown <font size=\"2\">Model size will affect the processing time and transcribe quality.\n",
        "# @markdown <br/>模型大小将影响转录时间和质量\n",
        "model_size = \"medium\"  # @param [\"base\", \"medium\", \"large\"]\n",
        "language = \"japanese\"  # @param {type:\"string\"}\n",
        "\n",
        "\n",
        "# @markdown **高级设置/Andvanced settings:**\n",
        "\n",
        "# @markdown <font size=\"2\">Don't change anything here unless you konw what you are doing.\n",
        "# @markdown <br/>调节以下参数可能会提高转录质量并避免一些问题，但是不懂请不要调\n",
        "\n",
        "compression_ratio_threshold = 2.4 # @param {type:\"number\"}\n",
        "no_speech_threshold = 0.6 # @param {type:\"number\"}\n",
        "logprob_threshold = -1.0 # @param {type:\"number\"}\n",
        "condition_on_previous_text = \"True\" # @param [\"True\", \"False\"]"
      ],
      "metadata": {
        "id": "gLcsoJy5BIcW"
      },
      "execution_count": 10,
      "outputs": []
    },
    {
      "cell_type": "code",
      "source": [
        "#@markdown **运行Whisper/Run Whisper**\n",
        "\n",
        "import os\n",
        "import ffmpeg\n",
        "import subprocess\n",
        "import torch\n",
        "import whisper\n",
        "import time\n",
        "import pandas as pd\n",
        "from pathlib import Path\n",
        "import sys\n",
        "sys.path.append('/drive/content')\n",
        "\n",
        "assert file_name != \"\"\n",
        "assert language != \"\"\n",
        "\n",
        "\n",
        "if not os.path.exists(file_name):\n",
        "  raise ValueError(f\"No {file_name} found in current path.\")\n",
        "else:\n",
        "    try:\n",
        "        file_basename = Path(file_name).stem\n",
        "        output_dir = Path(file_name).parent.resolve()\n",
        "        print(file_basename)\n",
        "        print(output_dir)      \n",
        "    except Exception as e:\n",
        "        print(f'error: {e}')\n",
        "\n",
        "if file_type == \"video\":\n",
        "  print('提取音频中 Extracting audio from video file...')\n",
        "  os.system(f'ffmpeg -i {file_name} -f mp3 -ab 192000 -vn {file_basename}.mp3')\n",
        "  print('提取完毕 Done.') \n",
        "\n",
        "torch.cuda.empty_cache()\n",
        "print('加载模型 Loading model...')\n",
        "model = whisper.load_model(model_size)\n",
        "\n",
        "#Transcribe\n",
        "tic = time.time()\n",
        "print('识别中 Converting...')\n",
        "result = model.transcribe(audio = f'{file_basename}.mp3', language= language)\n",
        "toc = time.time()\n",
        "print('识别完毕 Done')\n",
        "print(f'Time consumpution {toc-tic}s')\n",
        "\n",
        "#Write SRT file\n",
        "from whisper.utils import write_srt\n",
        "with open(Path(output_dir) / (file_basename + \".srt\"), \"w\", encoding=\"utf-8\") as srt:\n",
        "    write_srt(result[\"segments\"], file=srt)\n",
        "#Convert SRT to ASS\n",
        "from srt2ass import srt2ass\n",
        "assSub = srt2ass(file_basename + \".srt\")\n",
        "print('ASS subtitle saved as: ' + assSub)\n",
        "!rm <file_basename + \".srt\">\n",
        "torch.cuda.empty_cache()\n"
      ],
      "metadata": {
        "id": "z0igG7ruI-7q",
        "colab": {
          "base_uri": "https://localhost:8080/"
        },
        "outputId": "10756973-5c1e-4a72-bac8-7a3634508e54"
      },
      "execution_count": 29,
      "outputs": [
        {
          "output_type": "stream",
          "name": "stdout",
          "text": [
            "test\n",
            "/content\n",
            "提取音频中 Extracting audio from video file...\n",
            "提取完毕 Done.\n",
            "加载模型 Loading model...\n"
          ]
        },
        {
          "output_type": "stream",
          "name": "stderr",
          "text": [
            "100%|█████████████████████████████████████| 1.42G/1.42G [00:25<00:00, 60.5MiB/s]\n",
            "/usr/local/lib/python3.7/dist-packages/whisper/transcribe.py:78: UserWarning: FP16 is not supported on CPU; using FP32 instead\n",
            "  warnings.warn(\"FP16 is not supported on CPU; using FP32 instead\")\n"
          ]
        },
        {
          "output_type": "stream",
          "name": "stdout",
          "text": [
            "识别中 Converting...\n",
            "Time consumpution 150.13225388526917s\n"
          ]
        }
      ]
    },
    {
      "cell_type": "code",
      "source": [
        "from srt2ass import srt2ass\n",
        "assSub = srt2ass(audio_basename + \".srt\")\n",
        "print('ASS subtitle saved as: ' + assSub)\n",
        "!rm <file_basename + \".srt\">\n",
        "torch.cuda.empty_cache()"
      ],
      "metadata": {
        "colab": {
          "base_uri": "https://localhost:8080/"
        },
        "id": "IoKg8nA0Dj15",
        "outputId": "017bf346-690e-43dd-fd9d-6b113f3b11e8"
      },
      "execution_count": null,
      "outputs": [
        {
          "output_type": "stream",
          "name": "stdout",
          "text": [
            "ASS subtitle saved as: 221024a.ass\n"
          ]
        }
      ]
    }
  ]
}